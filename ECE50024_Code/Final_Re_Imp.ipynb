{
 "cells": [
  {
   "attachments": {},
   "cell_type": "markdown",
   "metadata": {},
   "source": [
    "Name: Eshaan Minocha\n",
    "Course: ECE 50024"
   ]
  },
  {
   "attachments": {},
   "cell_type": "markdown",
   "metadata": {},
   "source": [
    "Import Statements"
   ]
  },
  {
   "cell_type": "code",
   "execution_count": 1,
   "metadata": {
    "scrolled": true
   },
   "outputs": [
    {
     "name": "stderr",
     "output_type": "stream",
     "text": [
      "C:\\Users\\eshaa\\AppData\\Local\\Packages\\PythonSoftwareFoundation.Python.3.10_qbz5n2kfra8p0\\LocalCache\\local-packages\\Python310\\site-packages\\tqdm\\auto.py:22: TqdmWarning: IProgress not found. Please update jupyter and ipywidgets. See https://ipywidgets.readthedocs.io/en/stable/user_install.html\n",
      "  from .autonotebook import tqdm as notebook_tqdm\n"
     ]
    }
   ],
   "source": [
    "import torch\n",
    "import torch.nn as nn\n",
    "import torch.nn.functional as F\n",
    "from torch.autograd import Variable\n",
    "from dotPyfiles.LeNet import *\n",
    "from dotPyfiles.class_imbalance_dataset import *\n",
    "import matplotlib.pyplot as plt\n",
    "from tqdm import tqdm\n",
    "import IPython\n",
    "import gc\n",
    "import matplotlib\n",
    "matplotlib.rcParams.update({'errorbar.capsize': 5})\n",
    "\n",
    "%matplotlib inline\n",
    "%load_ext autoreload\n",
    "%autoreload 2"
   ]
  },
  {
   "attachments": {},
   "cell_type": "markdown",
   "metadata": {},
   "source": [
    "Hyperparameters"
   ]
  },
  {
   "cell_type": "code",
   "execution_count": 2,
   "metadata": {},
   "outputs": [],
   "source": [
    "hyperparameters = {\n",
    "    'lr' : 0.00897e-3,\n",
    "    'momentum' : 0.9,\n",
    "    'batch_size' : 100,\n",
    "    'num_iterations' : 4000,\n",
    "}"
   ]
  },
  {
   "attachments": {},
   "cell_type": "markdown",
   "metadata": {},
   "source": [
    "Get Data Loaders"
   ]
  },
  {
   "cell_type": "code",
   "execution_count": 3,
   "metadata": {},
   "outputs": [
    {
     "name": "stderr",
     "output_type": "stream",
     "text": [
      "C:\\Users\\eshaa\\AppData\\Local\\Packages\\PythonSoftwareFoundation.Python.3.10_qbz5n2kfra8p0\\LocalCache\\local-packages\\Python310\\site-packages\\torchvision\\datasets\\mnist.py:75: UserWarning: train_data has been renamed data\n",
      "  warnings.warn(\"train_data has been renamed data\")\n",
      "C:\\Users\\eshaa\\AppData\\Local\\Packages\\PythonSoftwareFoundation.Python.3.10_qbz5n2kfra8p0\\LocalCache\\local-packages\\Python310\\site-packages\\torchvision\\datasets\\mnist.py:65: UserWarning: train_labels has been renamed targets\n",
      "  warnings.warn(\"train_labels has been renamed targets\")\n",
      "C:\\Users\\eshaa\\AppData\\Local\\Packages\\PythonSoftwareFoundation.Python.3.10_qbz5n2kfra8p0\\LocalCache\\local-packages\\Python310\\site-packages\\torchvision\\datasets\\mnist.py:80: UserWarning: test_data has been renamed data\n",
      "  warnings.warn(\"test_data has been renamed data\")\n",
      "C:\\Users\\eshaa\\AppData\\Local\\Packages\\PythonSoftwareFoundation.Python.3.10_qbz5n2kfra8p0\\LocalCache\\local-packages\\Python310\\site-packages\\torchvision\\datasets\\mnist.py:70: UserWarning: test_labels has been renamed targets\n",
      "  warnings.warn(\"test_labels has been renamed targets\")\n"
     ]
    }
   ],
   "source": [
    "data_loader = get_mnist_loader(hyperparameters['batch_size'], classes=[8, 0], proportion=0.99995, mode=\"train\")\n",
    "test_loader = get_mnist_loader(hyperparameters['batch_size'], classes=[8, 0], proportion=0.5, mode=\"test\")\n",
    "def to_var(x, requires_grad=True):\n",
    "    if torch.cuda.is_available():\n",
    "        x = x.cuda()\n",
    "    return Variable(x, requires_grad=requires_grad)\n",
    "val_data = to_var(data_loader.dataset.data_val, requires_grad=False)\n",
    "val_labels = to_var(data_loader.dataset.labels_val, requires_grad=False)"
   ]
  },
  {
   "attachments": {},
   "cell_type": "markdown",
   "metadata": {},
   "source": [
    "Call LeNet from dotPyfiles"
   ]
  },
  {
   "cell_type": "code",
   "execution_count": 6,
   "metadata": {},
   "outputs": [],
   "source": [
    "def get_LeNet():\n",
    "    model = LeNet(n_out=1)\n",
    "\n",
    "    if torch.cuda.is_available():\n",
    "        model.cuda()\n",
    "        torch.backends.cudnn.benchmark=True\n",
    "\n",
    "    opt = torch.optim.SGD(model.params(),lr=hyperparameters[\"lr\"])\n",
    "    \n",
    "    return model, opt"
   ]
  },
  {
   "cell_type": "code",
   "execution_count": null,
   "metadata": {},
   "outputs": [],
   "source": [
    "net, opt = get_LeNet()\n",
    "\n",
    "net_losses = []\n",
    "plot_step = 100\n",
    "net_l = 0\n",
    "\n",
    "smoothing_alpha = 0.9\n",
    "accuracy_log = []\n",
    "for i in tqdm(range(hyperparameters['num_iterations'])):\n",
    "    net.train()\n",
    "    image, labels = next(iter(data_loader))\n",
    "\n",
    "    image = to_var(image, requires_grad=False)\n",
    "    # print(image.shape)\n",
    "    labels = to_var(labels, requires_grad=False)\n",
    "\n",
    "    # y = net.forward(image.view(image.size(0), -1))    \n",
    "    # cost = F.binary_cross_entropy_with_logits(y, labels.unsqueeze(1))\n",
    "    y = net(image) #LeNet\n",
    "    cost = F.binary_cross_entropy_with_logits(y, labels) # LeNet\n",
    "    \n",
    "    opt.zero_grad()\n",
    "    cost.backward()\n",
    "    opt.step()\n",
    "    \n",
    "    net_l = smoothing_alpha *net_l + (1 - smoothing_alpha)* cost.item()\n",
    "    net_losses.append(net_l/(1 - smoothing_alpha**(i+1)))\n",
    "    \n",
    "    if i % plot_step == 0:\n",
    "        net.eval()\n",
    "        \n",
    "        acc = []\n",
    "        for itr,(test_img, test_label) in enumerate(test_loader):\n",
    "            test_img = to_var(test_img, requires_grad=False)\n",
    "            test_label = to_var(test_label, requires_grad=False)\n",
    "            \n",
    "            output = net(test_img) #LeNet\n",
    "            # output = net.forward(test_img.view(test_img.size(0), -1)) \n",
    "            predicted = (F.sigmoid(output) > 0.5).int()\n",
    "            \n",
    "            acc.append((predicted.int() == test_label.int()).float())\n",
    "\n",
    "        accuracy = torch.cat(acc,dim=0).mean()\n",
    "        accuracy_log.append(np.array([i,accuracy])[None])\n",
    "        \n",
    "        \n",
    "        IPython.display.clear_output()\n",
    "        fig, axes = plt.subplots(1, 2, figsize=(13,5))\n",
    "        ax1, ax2 = axes.ravel()\n",
    "\n",
    "        ax1.plot(net_losses, label='net_losses')\n",
    "        ax1.set_ylabel(\"Losses\")\n",
    "        ax1.set_xlabel(\"Iteration\")\n",
    "        ax1.legend()\n",
    "        \n",
    "        acc_log = np.concatenate(accuracy_log, axis=0)\n",
    "        ax2.plot(acc_log[:,0],acc_log[:,1])\n",
    "        ax2.set_ylabel('Accuracy')\n",
    "        ax2.set_xlabel('Iteration')\n",
    "        plt.show()\n"
   ]
  },
  {
   "cell_type": "markdown",
   "metadata": {},
   "source": [
    "<img src=\"pseudocode.PNG\" width=\"300\" />\n",
    "\n"
   ]
  },
  {
   "attachments": {},
   "cell_type": "markdown",
   "metadata": {},
   "source": [
    "Reweighted Algo"
   ]
  },
  {
   "cell_type": "code",
   "execution_count": 8,
   "metadata": {},
   "outputs": [],
   "source": [
    "def train_lre():\n",
    "    net, opt = get_LeNet()\n",
    "    \n",
    "    meta_losses_clean = []\n",
    "    net_losses = []\n",
    "    plot_step = 100\n",
    "\n",
    "    smoothing_alpha = 0.9\n",
    "    \n",
    "    meta_l = 0\n",
    "    net_l = 0\n",
    "    accuracy_log = []\n",
    "    for i in tqdm(range(hyperparameters['num_iterations'])):\n",
    "        net.train()\n",
    "        image, labels = next(iter(data_loader))\n",
    "      \n",
    "        meta_net = LeNet(n_out=1)\n",
    "        meta_net.load_state_dict(net.state_dict())\n",
    "\n",
    "        if torch.cuda.is_available():\n",
    "            meta_net.cuda()\n",
    "\n",
    "        image = to_var(image, requires_grad=False)\n",
    "        labels = to_var(labels, requires_grad=False)\n",
    "\n",
    "        y_f_hat  = meta_net(image)\n",
    "        cost = F.binary_cross_entropy_with_logits(y_f_hat,labels, reduce=False)\n",
    "        eps = to_var(torch.zeros(cost.size()))\n",
    "        l_f_meta = torch.sum(cost * eps)\n",
    "\n",
    "        meta_net.zero_grad()\n",
    "        \n",
    "        grads = torch.autograd.grad(l_f_meta, (meta_net.params()), create_graph=True)\n",
    "        meta_net.update_params(hyperparameters['lr'], source_params=grads)\n",
    "        \n",
    "        y_g_hat = meta_net(val_data)\n",
    "\n",
    "        l_g_meta = F.binary_cross_entropy_with_logits(y_g_hat,val_labels)\n",
    "\n",
    "        grad_eps = torch.autograd.grad(l_g_meta, eps, only_inputs=True)[0]\n",
    "        \n",
    "        w_tilde = torch.clamp(-grad_eps,min=0)\n",
    "        norm_c = torch.sum(w_tilde)\n",
    "\n",
    "        if norm_c != 0:\n",
    "            w = w_tilde / norm_c\n",
    "        else:\n",
    "            w = w_tilde\n",
    "\n",
    "        \n",
    "        y_f_hat = net(image)\n",
    "        cost = F.binary_cross_entropy_with_logits(y_f_hat, labels, reduce=False)\n",
    "        l_f = torch.sum(cost * w)\n",
    "\n",
    "        opt.zero_grad()\n",
    "        l_f.backward()\n",
    "        opt.step()\n",
    "\n",
    "        meta_l = smoothing_alpha *meta_l + (1 - smoothing_alpha)* l_g_meta.item()\n",
    "        meta_losses_clean.append(meta_l/(1 - smoothing_alpha**(i+1)))\n",
    "\n",
    "        net_l = smoothing_alpha *net_l + (1 - smoothing_alpha)* l_f.item()\n",
    "        net_losses.append(net_l/(1 - smoothing_alpha**(i+1)))\n",
    "\n",
    "        if i % plot_step == 0:\n",
    "            net.eval()\n",
    "\n",
    "            acc = []\n",
    "            for itr,(test_img, test_label) in enumerate(test_loader):\n",
    "                test_img = to_var(test_img, requires_grad=False)\n",
    "                test_label = to_var(test_label, requires_grad=False)\n",
    "\n",
    "                output = net(test_img)\n",
    "                predicted = (F.sigmoid(output) > 0.5).int()\n",
    "\n",
    "                acc.append((predicted.int() == test_label.int()).float())\n",
    "\n",
    "            accuracy = torch.cat(acc,dim=0).mean()\n",
    "            accuracy_log.append(np.array([i,accuracy])[None])\n",
    "\n",
    "\n",
    "            IPython.display.clear_output()\n",
    "            fig, axes = plt.subplots(1, 2, figsize=(13,5))\n",
    "            ax1, ax2 = axes.ravel()\n",
    "\n",
    "            ax1.plot(meta_losses_clean, label='meta_losses_clean')\n",
    "            ax1.plot(net_losses, label='net_losses')\n",
    "            ax1.set_ylabel(\"Losses\")\n",
    "            ax1.set_xlabel(\"Iteration\")\n",
    "            ax1.legend()\n",
    "\n",
    "            acc_log = np.concatenate(accuracy_log, axis=0)\n",
    "            ax2.plot(acc_log[:,0],acc_log[:,1])\n",
    "            ax2.set_ylabel('Accuracy')\n",
    "            ax2.set_xlabel('Iteration')\n",
    "            plt.show()\n",
    "            \n",
    "    return np.mean(acc_log[-6:-1, 1])"
   ]
  },
  {
   "attachments": {},
   "cell_type": "markdown",
   "metadata": {},
   "source": [
    "Check robustness"
   ]
  },
  {
   "cell_type": "code",
   "execution_count": null,
   "metadata": {},
   "outputs": [],
   "source": [
    "num_repeats = 1\n",
    "# proportions = [0.9,0.95, 0.98, 0.99, 0.995]\n",
    "# proportions = [0.9,0.99,0.99995]\n",
    "proportions = [0.99995]\n",
    "\n",
    "accuracy_log = {}\n",
    "\n",
    "for prop in proportions:\n",
    "    data_loader = get_mnist_loader(hyperparameters['batch_size'], classes=[8, 0], proportion=prop, mode=\"train\")\n",
    "    val_data = to_var(data_loader.dataset.data_val, requires_grad=False)\n",
    "    val_labels = to_var(data_loader.dataset.labels_val, requires_grad=False)\n",
    "    \n",
    "    for k in range(num_repeats):\n",
    "        accuracy = train_lre()\n",
    "        \n",
    "        if prop in accuracy_log:\n",
    "            accuracy_log[prop].append(accuracy)\n",
    "        else:\n",
    "            accuracy_log[prop] = [accuracy]\n",
    "\n",
    "plt.figure(figsize=(10,8))\n",
    "for prop in proportions:\n",
    "    accuracies = accuracy_log[prop]\n",
    "    plt.scatter([prop] * len(accuracies), accuracies)\n",
    "\n",
    "accuracies_mean = np.array([np.mean(v) for k,v in sorted(accuracy_log.items())])\n",
    "accuracies_std = np.array([np.std(v) for k,v in sorted(accuracy_log.items())])\n",
    "plt.errorbar(proportions, accuracies_mean, yerr=accuracies_std)\n",
    "plt.title('Performance on varying class proportions')\n",
    "plt.xlabel('proportions')\n",
    "plt.ylabel('Accuracy')\n",
    "plt.show()"
   ]
  },
  {
   "attachments": {},
   "cell_type": "markdown",
   "metadata": {},
   "source": [
    "Comparison Plot"
   ]
  },
  {
   "cell_type": "code",
   "execution_count": 10,
   "metadata": {},
   "outputs": [
    {
     "data": {
      "text/plain": [
       "<matplotlib.legend.Legend at 0x141618226e0>"
      ]
     },
     "execution_count": 10,
     "metadata": {},
     "output_type": "execute_result"
    },
    {
     "data": {
      "image/png": "[encoded data removed]",
      "text/plain": [
       "<Figure size 640x480 with 1 Axes>"
      ]
     },
     "metadata": {},
     "output_type": "display_data"
    }
   ],
   "source": [
    "# print(accuracies_mean)\n",
    "theirs = [0.98,0.975,0.955]\n",
    "ours = [0.572, 0.561, 0.498]\n",
    "reg_training = [0.502, 0.498, 0.485]\n",
    "props = [0.9, 0.99, 0.99995]\n",
    "\n",
    "plt.plot(props, ours,c='k',label=\"Eshaan's re-implementation\")\n",
    "plt.plot(props, theirs,c='b',label=\"Original Paper\")\n",
    "plt.plot(props, reg_training,c='m', label=\"Regular Training Method\")\n",
    "\n",
    "\n",
    "plt.title(\"Accuracy Plot\")\n",
    "plt.xlabel(\"Proportions\")\n",
    "plt.ylabel(\"Acccuracies\")\n",
    "plt.legend()\n",
    "# plt.plot(props, ours)\n",
    "# plt.plot(props,theirs)\n",
    "# plt.title('Performance on varying class proportions')\n",
    "# plt.xlabel('proportions')\n",
    "# plt.ylabel('Accuracy')\n",
    "# plt.show()"
   ]
  },
  {
   "attachments": {},
   "cell_type": "markdown",
   "metadata": {},
   "source": [
    "Exponential Decay"
   ]
  },
  {
   "cell_type": "code",
   "execution_count": 11,
   "metadata": {},
   "outputs": [
    {
     "name": "stdout",
     "output_type": "stream",
     "text": [
      "Percentage decrease between 0.98000000 and 0.97500000 is 0.51%\n",
      "Percentage decrease between 0.97500000 and 0.95500000 is 2.05%\n"
     ]
    },
    {
     "data": {
      "image/png": "[encoded data removed]",
      "text/plain": [
       "<Figure size 640x480 with 1 Axes>"
      ]
     },
     "metadata": {},
     "output_type": "display_data"
    }
   ],
   "source": [
    "# values = [0.57205732, 0.56141249, 0.49846467]\n",
    "values = [0.98,0.975,0.955]\n",
    "\n",
    "for i in range(len(values)-1):\n",
    "    old_value = values[i]\n",
    "    new_value = values[i+1]\n",
    "    percentage_decrease = ((old_value - new_value) / old_value) * 100\n",
    "    print(f\"Percentage decrease between {old_value:.8f} and {new_value:.8f} is {percentage_decrease:.2f}%\")\n",
    "\n",
    "import numpy as np\n",
    "import matplotlib.pyplot as plt\n",
    "from scipy.optimize import curve_fit\n",
    "\n",
    "# Define the exponential decay function\n",
    "def exp_decay(x, a, b):\n",
    "    return a * np.exp(-b * x)\n",
    "\n",
    "# Input data\n",
    "x = np.array([0, 1, 2])\n",
    "y1 = np.array([0.98,0.975,0.955])\n",
    "y2 = np.array([0.57205732, 0.56141249, 0.49846467])\n",
    "# Fit the exponential decay function to the data\n",
    "popt1, pcov1 = curve_fit(exp_decay, x, y1)\n",
    "popt2, pcov2 =  curve_fit(exp_decay, x, y2)\n",
    "# Generate a curve based on the fitted parameters\n",
    "x_curve = np.linspace(0, 2, 100)\n",
    "y1_curve = exp_decay(x_curve, *popt1)\n",
    "y2_curve = exp_decay(x_curve, *popt2)\n",
    "\n",
    "# Plot the data and the curve\n",
    "plt.plot(x, y1, 'ro', label='Original Paper')\n",
    "plt.plot(x,y2,'ko',label = \"Eshaan's re-implemenation\")\n",
    "plt.plot(x_curve, y1_curve, 'b-', label='Exponential Decay - Original Paper')\n",
    "plt.plot(x_curve, y2_curve, 'r-', label=\"Exponential Decay - Eshaan's re-implementation\")\n",
    "plt.title ('Exponential Decay Equation')\n",
    "plt.xlabel('Time elapsed')\n",
    "plt.ylabel('Value')\n",
    "plt.legend()\n",
    "plt.show()\n"
   ]
  }
 ],
 "metadata": {
  "kernelspec": {
   "display_name": "Python 3",
   "language": "python",
   "name": "python3"
  },
  "language_info": {
   "codemirror_mode": {
    "name": "ipython",
    "version": 3
   },
   "file_extension": ".py",
   "mimetype": "text/x-python",
   "name": "python",
   "nbconvert_exporter": "python",
   "pygments_lexer": "ipython3",
   "version": "3.10.11"
  }
 },
 "nbformat": 4,
 "nbformat_minor": 2
}
